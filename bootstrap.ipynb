{
 "cells": [
  {
   "cell_type": "markdown",
   "id": "14af0054",
   "metadata": {},
   "source": [
    "## Welcome to Detective Agency"
   ]
  },
  {
   "cell_type": "code",
   "execution_count": 1,
   "id": "8075c832",
   "metadata": {},
   "outputs": [],
   "source": [
    "import pandas as pd\n",
    "import seaborn as sns\n",
    "import numpy as np\n",
    "from scipy import stats\n",
    "from matplotlib import pyplot as plt"
   ]
  },
  {
   "cell_type": "code",
   "execution_count": 2,
   "id": "86805ce4",
   "metadata": {},
   "outputs": [],
   "source": [
    "from src.DigitalTwin import QuickStart"
   ]
  },
  {
   "cell_type": "code",
   "execution_count": 3,
   "id": "50593411",
   "metadata": {},
   "outputs": [],
   "source": [
    "agency= QuickStart().go()"
   ]
  },
  {
   "cell_type": "code",
   "execution_count": 4,
   "id": "ec9dc682",
   "metadata": {},
   "outputs": [],
   "source": [
    "df=agency.get_dataframe()"
   ]
  },
  {
   "cell_type": "code",
   "execution_count": 5,
   "id": "4769e16b",
   "metadata": {},
   "outputs": [],
   "source": [
    "df['cat_status']=df['status'].apply(lambda x: 'solved' if x else 'unsolved')"
   ]
  },
  {
   "cell_type": "code",
   "execution_count": 6,
   "id": "9105db5f",
   "metadata": {},
   "outputs": [
    {
     "data": {
      "text/html": [
       "<div>\n",
       "<style scoped>\n",
       "    .dataframe tbody tr th:only-of-type {\n",
       "        vertical-align: middle;\n",
       "    }\n",
       "\n",
       "    .dataframe tbody tr th {\n",
       "        vertical-align: top;\n",
       "    }\n",
       "\n",
       "    .dataframe thead th {\n",
       "        text-align: right;\n",
       "    }\n",
       "</style>\n",
       "<table border=\"1\" class=\"dataframe\">\n",
       "  <thead>\n",
       "    <tr style=\"text-align: right;\">\n",
       "      <th></th>\n",
       "      <th>status</th>\n",
       "      <th>init_date</th>\n",
       "      <th>finish_date</th>\n",
       "      <th>time_spent</th>\n",
       "      <th>detective_id</th>\n",
       "      <th>revenue</th>\n",
       "      <th>case_type</th>\n",
       "      <th>cat_status</th>\n",
       "    </tr>\n",
       "  </thead>\n",
       "  <tbody>\n",
       "    <tr>\n",
       "      <th>0</th>\n",
       "      <td>0</td>\n",
       "      <td>2009-02-06 06:19:11.862510</td>\n",
       "      <td>2009-02-07 05:17:16.225238</td>\n",
       "      <td>0 days 22:58:04.362728</td>\n",
       "      <td>1</td>\n",
       "      <td>0</td>\n",
       "      <td>adultery</td>\n",
       "      <td>unsolved</td>\n",
       "    </tr>\n",
       "    <tr>\n",
       "      <th>1</th>\n",
       "      <td>1</td>\n",
       "      <td>2000-11-01 08:59:14.257438</td>\n",
       "      <td>2000-11-10 20:52:00.666644</td>\n",
       "      <td>9 days 11:52:46.409206</td>\n",
       "      <td>0</td>\n",
       "      <td>800</td>\n",
       "      <td>adultery</td>\n",
       "      <td>solved</td>\n",
       "    </tr>\n",
       "    <tr>\n",
       "      <th>2</th>\n",
       "      <td>0</td>\n",
       "      <td>2013-08-20 05:48:05.993369</td>\n",
       "      <td>2013-08-30 00:56:07.905230</td>\n",
       "      <td>9 days 19:08:01.911861</td>\n",
       "      <td>0</td>\n",
       "      <td>0</td>\n",
       "      <td>murder</td>\n",
       "      <td>unsolved</td>\n",
       "    </tr>\n",
       "    <tr>\n",
       "      <th>3</th>\n",
       "      <td>1</td>\n",
       "      <td>2018-07-01 13:52:54.652656</td>\n",
       "      <td>2018-07-11 13:01:53.382772</td>\n",
       "      <td>9 days 23:08:58.730116</td>\n",
       "      <td>0</td>\n",
       "      <td>500</td>\n",
       "      <td>theft</td>\n",
       "      <td>solved</td>\n",
       "    </tr>\n",
       "    <tr>\n",
       "      <th>4</th>\n",
       "      <td>1</td>\n",
       "      <td>2014-03-01 04:25:45.520031</td>\n",
       "      <td>2014-03-12 02:27:42.166267</td>\n",
       "      <td>10 days 22:01:56.646236</td>\n",
       "      <td>0</td>\n",
       "      <td>800</td>\n",
       "      <td>adultery</td>\n",
       "      <td>solved</td>\n",
       "    </tr>\n",
       "    <tr>\n",
       "      <th>...</th>\n",
       "      <td>...</td>\n",
       "      <td>...</td>\n",
       "      <td>...</td>\n",
       "      <td>...</td>\n",
       "      <td>...</td>\n",
       "      <td>...</td>\n",
       "      <td>...</td>\n",
       "      <td>...</td>\n",
       "    </tr>\n",
       "    <tr>\n",
       "      <th>995</th>\n",
       "      <td>0</td>\n",
       "      <td>2007-11-19 00:05:40.945669</td>\n",
       "      <td>2007-11-29 19:55:26.335484</td>\n",
       "      <td>10 days 19:49:45.389815</td>\n",
       "      <td>0</td>\n",
       "      <td>0</td>\n",
       "      <td>adultery</td>\n",
       "      <td>unsolved</td>\n",
       "    </tr>\n",
       "    <tr>\n",
       "      <th>996</th>\n",
       "      <td>0</td>\n",
       "      <td>2010-04-22 23:06:51.380587</td>\n",
       "      <td>2010-05-03 19:24:42.962910</td>\n",
       "      <td>10 days 20:17:51.582323</td>\n",
       "      <td>0</td>\n",
       "      <td>0</td>\n",
       "      <td>murder</td>\n",
       "      <td>unsolved</td>\n",
       "    </tr>\n",
       "    <tr>\n",
       "      <th>997</th>\n",
       "      <td>1</td>\n",
       "      <td>2005-05-29 19:21:44.532705</td>\n",
       "      <td>2005-06-01 13:40:16.764500</td>\n",
       "      <td>2 days 18:18:32.231795</td>\n",
       "      <td>1</td>\n",
       "      <td>500</td>\n",
       "      <td>theft</td>\n",
       "      <td>solved</td>\n",
       "    </tr>\n",
       "    <tr>\n",
       "      <th>998</th>\n",
       "      <td>0</td>\n",
       "      <td>2005-04-11 17:07:08.306590</td>\n",
       "      <td>2005-04-20 17:30:34.212306</td>\n",
       "      <td>9 days 00:23:25.905716</td>\n",
       "      <td>0</td>\n",
       "      <td>0</td>\n",
       "      <td>murder</td>\n",
       "      <td>unsolved</td>\n",
       "    </tr>\n",
       "    <tr>\n",
       "      <th>999</th>\n",
       "      <td>0</td>\n",
       "      <td>2008-03-13 16:43:58.037501</td>\n",
       "      <td>2008-03-23 04:38:46.429311</td>\n",
       "      <td>9 days 11:54:48.391810</td>\n",
       "      <td>0</td>\n",
       "      <td>0</td>\n",
       "      <td>murder</td>\n",
       "      <td>unsolved</td>\n",
       "    </tr>\n",
       "  </tbody>\n",
       "</table>\n",
       "<p>1000 rows × 8 columns</p>\n",
       "</div>"
      ],
      "text/plain": [
       "     status                  init_date                finish_date  \\\n",
       "0         0 2009-02-06 06:19:11.862510 2009-02-07 05:17:16.225238   \n",
       "1         1 2000-11-01 08:59:14.257438 2000-11-10 20:52:00.666644   \n",
       "2         0 2013-08-20 05:48:05.993369 2013-08-30 00:56:07.905230   \n",
       "3         1 2018-07-01 13:52:54.652656 2018-07-11 13:01:53.382772   \n",
       "4         1 2014-03-01 04:25:45.520031 2014-03-12 02:27:42.166267   \n",
       "..      ...                        ...                        ...   \n",
       "995       0 2007-11-19 00:05:40.945669 2007-11-29 19:55:26.335484   \n",
       "996       0 2010-04-22 23:06:51.380587 2010-05-03 19:24:42.962910   \n",
       "997       1 2005-05-29 19:21:44.532705 2005-06-01 13:40:16.764500   \n",
       "998       0 2005-04-11 17:07:08.306590 2005-04-20 17:30:34.212306   \n",
       "999       0 2008-03-13 16:43:58.037501 2008-03-23 04:38:46.429311   \n",
       "\n",
       "                 time_spent  detective_id  revenue case_type cat_status  \n",
       "0    0 days 22:58:04.362728             1        0  adultery   unsolved  \n",
       "1    9 days 11:52:46.409206             0      800  adultery     solved  \n",
       "2    9 days 19:08:01.911861             0        0    murder   unsolved  \n",
       "3    9 days 23:08:58.730116             0      500     theft     solved  \n",
       "4   10 days 22:01:56.646236             0      800  adultery     solved  \n",
       "..                      ...           ...      ...       ...        ...  \n",
       "995 10 days 19:49:45.389815             0        0  adultery   unsolved  \n",
       "996 10 days 20:17:51.582323             0        0    murder   unsolved  \n",
       "997  2 days 18:18:32.231795             1      500     theft     solved  \n",
       "998  9 days 00:23:25.905716             0        0    murder   unsolved  \n",
       "999  9 days 11:54:48.391810             0        0    murder   unsolved  \n",
       "\n",
       "[1000 rows x 8 columns]"
      ]
     },
     "execution_count": 6,
     "metadata": {},
     "output_type": "execute_result"
    }
   ],
   "source": [
    "df"
   ]
  },
  {
   "cell_type": "code",
   "execution_count": 7,
   "id": "3ae91646",
   "metadata": {},
   "outputs": [],
   "source": [
    "rm = df[df.detective_id==0]\n",
    "sh = df[df.detective_id==1]"
   ]
  },
  {
   "cell_type": "code",
   "execution_count": 8,
   "id": "af8227c9",
   "metadata": {},
   "outputs": [],
   "source": [
    "rm_means=pd.Series([rm.sample(frac=1, replace=True)['revenue'].mean() for _ in range(10000)])\n",
    "sh_means=pd.Series([sh.sample(frac=1, replace=True)['revenue'].mean() for _ in range(10000)])"
   ]
  },
  {
   "cell_type": "code",
   "execution_count": 9,
   "id": "35a5b876",
   "metadata": {},
   "outputs": [],
   "source": [
    "effect=sh_means.mean()-rm_means.mean()\n",
    "diffs= sh_means-rm_means-effect\n",
    "p_value = np.mean(np.abs(diffs) >= np.abs(effect))"
   ]
  },
  {
   "cell_type": "code",
   "execution_count": 10,
   "id": "e8b35cc4",
   "metadata": {},
   "outputs": [],
   "source": [
    "zalpha=stats.norm.ppf(0.025)\n",
    "se=np.sqrt(sum([(x)**2 for x in diffs])/len(diffs))"
   ]
  },
  {
   "cell_type": "code",
   "execution_count": 11,
   "id": "31f14f89",
   "metadata": {},
   "outputs": [
    {
     "name": "stdout",
     "output_type": "stream",
     "text": [
      "Observed effect: 79.57218258863486\n",
      "Bootstrap p-value: 0.0759\n"
     ]
    }
   ],
   "source": [
    "print(f\"Observed effect: {effect}\")\n",
    "print(f\"Bootstrap p-value: {p_value}\")"
   ]
  },
  {
   "cell_type": "code",
   "execution_count": 12,
   "id": "579f5464",
   "metadata": {},
   "outputs": [
    {
     "data": {
      "text/plain": [
       "<matplotlib.lines.Line2D at 0x1245a2150>"
      ]
     },
     "execution_count": 12,
     "metadata": {},
     "output_type": "execute_result"
    },
    {
     "data": {
      "image/png": "[encoded data removed]",
      "text/plain": [
       "<Figure size 640x480 with 1 Axes>"
      ]
     },
     "metadata": {},
     "output_type": "display_data"
    }
   ],
   "source": [
    "sns.histplot(diffs)\n",
    "\n",
    "plt.axvline(diffs.quantile(0.025))\n",
    "plt.axvline(diffs.quantile(0.975))\n",
    "plt.axvline(se*1.96,color='r')\n",
    "plt.axvline(-se*1.96,color='r')"
   ]
  },
  {
   "cell_type": "markdown",
   "id": "5a8ce17e",
   "metadata": {},
   "source": [
    "Normality"
   ]
  },
  {
   "cell_type": "code",
   "execution_count": 13,
   "id": "d7b56375",
   "metadata": {},
   "outputs": [
    {
     "name": "stderr",
     "output_type": "stream",
     "text": [
      "/opt/homebrew/Caskroom/mambaforge/base/envs/detective/lib/python3.12/site-packages/scipy/stats/_axis_nan_policy.py:579: UserWarning: scipy.stats.shapiro: For N > 5000, computed p-value may not be accurate. Current N is 10000.\n",
      "  res = hypotest_fun_out(*samples, **kwds)\n"
     ]
    },
    {
     "data": {
      "text/plain": [
       "ShapiroResult(statistic=np.float64(0.9998578372257927), pvalue=np.float64(0.8225291619652324))"
      ]
     },
     "execution_count": 13,
     "metadata": {},
     "output_type": "execute_result"
    }
   ],
   "source": [
    "from scipy.stats import shapiro\n",
    "shapiro(diffs)"
   ]
  },
  {
   "cell_type": "code",
   "execution_count": 14,
   "id": "d0a4e15e",
   "metadata": {},
   "outputs": [
    {
     "data": {
      "text/plain": [
       "((array([-3.81060943, -3.58545756, -3.46184782, ...,  3.46184782,\n",
       "          3.58545756,  3.81060943], shape=(10000,)),\n",
       "  array([-160.13899718, -154.00384602, -153.09066254, ...,  151.85254386,\n",
       "          151.96068401,  161.93681307], shape=(10000,))),\n",
       " (np.float64(44.8723296728111),\n",
       "  np.float64(-4.382020432060722e-15),\n",
       "  np.float64(0.9999478900349585)))"
      ]
     },
     "execution_count": 14,
     "metadata": {},
     "output_type": "execute_result"
    },
    {
     "data": {
      "image/png": "[encoded data removed]",
      "text/plain": [
       "<Figure size 640x480 with 1 Axes>"
      ]
     },
     "metadata": {},
     "output_type": "display_data"
    }
   ],
   "source": [
    "stats.probplot(diffs, dist='norm', plot=plt)"
   ]
  },
  {
   "cell_type": "code",
   "execution_count": null,
   "id": "8402be16",
   "metadata": {},
   "outputs": [],
   "source": []
  }
 ],
 "metadata": {
  "kernelspec": {
   "display_name": "detective",
   "language": "python",
   "name": "python3"
  },
  "language_info": {
   "codemirror_mode": {
    "name": "ipython",
    "version": 3
   },
   "file_extension": ".py",
   "mimetype": "text/x-python",
   "name": "python",
   "nbconvert_exporter": "python",
   "pygments_lexer": "ipython3",
   "version": "3.12.11"
  }
 },
 "nbformat": 4,
 "nbformat_minor": 5
}
